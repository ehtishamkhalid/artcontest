{
 "cells": [
  {
   "cell_type": "code",
   "execution_count": null,
   "id": "b0201763",
   "metadata": {},
   "outputs": [],
   "source": [
    "import numpy as np\n",
    "import cv2\n",
    "import matplotlib.pyplot as plt\n",
    "import pandas as pd\n",
    "import os\n"
   ]
  },
  {
   "cell_type": "code",
   "execution_count": null,
   "id": "2aa7cc08",
   "metadata": {},
   "outputs": [],
   "source": [
    "# Assuming the images are in a directory\n",
    "image_directory = 'path/to/your/images'\n",
    "\n",
    "def load_images_from_folder(folder):\n",
    "    images = []\n",
    "    for filename in os.listdir(folder):\n",
    "        img = cv2.imread(os.path.join(folder, filename))\n",
    "        if img is not None:\n",
    "            images.append(img)\n",
    "    return images\n",
    "\n",
    "images = load_images_from_folder(image_directory)\n"
   ]
  },
  {
   "cell_type": "code",
   "execution_count": null,
   "id": "6b012940",
   "metadata": {},
   "outputs": [],
   "source": [
    "# Example: Using MNIST dataset from Keras\n",
    "from tensorflow.keras.datasets import mnist\n",
    "\n",
    "(x_train, y_train), (x_test, y_test) = mnist.load_data()\n",
    "\n",
    "# Convert grayscale images to RGB and resize to fit the MobileNet-SSD input size\n",
    "x_train = [cv2.cvtColor(cv2.resize(np.stack((img,)*3, axis=-1), (300, 300)), cv2.COLOR_GRAY2RGB) for img in x_train]\n",
    "x_test = [cv2.cvtColor(cv2.resize(np.stack((img,)*3, axis=-1), (300, 300)), cv2.COLOR_GRAY2RGB) for img in x_test]\n"
   ]
  },
  {
   "cell_type": "code",
   "execution_count": null,
   "id": "23a1cac3",
   "metadata": {},
   "outputs": [],
   "source": [
    "# Example: Importing data from Kaggle\n",
    "# !kaggle datasets download -d dataset/dataset-name\n",
    "\n",
    "# Unzip the downloaded dataset\n",
    "# !unzip dataset-name.zip -d dataset-directory\n",
    "\n",
    "# Load images from the dataset directory\n",
    "kaggle_images = load_images_from_folder('dataset-directory')\n"
   ]
  },
  {
   "cell_type": "code",
   "execution_count": null,
   "id": "aedf597b",
   "metadata": {},
   "outputs": [],
   "source": [
    "# Download the MobileNet-SSD model files\n",
    "!wget -q --show-progress https://github.com/chuanqi305/MobileNet-SSD/blob/master/deploy.prototxt\n",
    "!wget -q --show-progress https://github.com/chuanqi305/MobileNet-SSD/blob/master/mobilenet_iter_73000.caffemodel\n"
   ]
  },
  {
   "cell_type": "code",
   "execution_count": null,
   "id": "46fec94f",
   "metadata": {},
   "outputs": [],
   "source": [
    "def detect_objects(image, net, confidence_threshold=0.2):\n",
    "    # Get the image dimensions\n",
    "    (h, w) = image.shape[:2]\n",
    "    \n",
    "    # Preprocess the image to fit the model input size\n",
    "    blob = cv2.dnn.blobFromImage(cv2.resize(image, (300, 300)), 0.007843, (300, 300), 127.5)\n",
    "    \n",
    "    # Set the input to the pre-trained deep learning network and obtain the output predicted probabilities\n",
    "    net.setInput(blob)\n",
    "    detections = net.forward()\n",
    "\n",
    "    # Loop over the detections\n",
    "    for i in np.arange(0, detections.shape[2]):\n",
    "        # Extract the confidence (i.e., probability) associated with the prediction\n",
    "        confidence = detections[0, 0, i, 2]\n",
    "\n",
    "        # Filter out weak detections by ensuring the `confidence` is greater than the minimum confidence\n",
    "        if confidence > confidence_threshold:\n",
    "            # Extract the index of the class label from the `detections`\n",
    "            idx = int(detections[0, 0, i, 1])\n",
    "            \n",
    "            # Compute the (x, y)-coordinates of the bounding box for the object\n",
    "            box = detections[0, 0, i, 3:7] * np.array([w, h, w, h])\n",
    "            (startX, startY, endX, endY) = box.astype(\"int\")\n",
    "            \n",
    "            # Draw the prediction on the image\n",
    "            label = \"{}: {:.2f}%\".format(CLASSES[idx], confidence * 100)\n",
    "            cv2.rectangle(image, (startX, startY), (endX, endY), (0, 255, 0), 2)\n",
    "            y = startY - 15 if startY - 15 > 15 else startY + 15\n",
    "            cv2.putText(image, label, (startX, y), cv2.FONT_HERSHEY_SIMPLEX, 0.5, (0, 255, 0), 2)\n",
    "    \n",
    "    return image\n",
    "\n",
    "# Detect objects in all images\n",
    "detected_images = [detect_objects(img, net) for img in images]\n",
    "\n",
    "# Display one of the detected images\n",
    "plt.imshow(cv2.cvtColor(detected_images[0], cv2.COLOR_BGR2RGB))\n",
    "plt.show()\n"
   ]
  },
  {
   "cell_type": "code",
   "execution_count": null,
   "id": "6349a260",
   "metadata": {},
   "outputs": [],
   "source": [
    "# Assuming you have ground truth labels and a way to calculate metrics\n",
    "# This section is just a placeholder, as evaluation metrics will depend on your dataset and requirements\n",
    "def evaluate_model(images, ground_truth_labels):\n",
    "    # Placeholder for evaluation logic\n",
    "    pass\n",
    "\n",
    "# Example visualization of detected images\n",
    "for img in detected_images:\n",
    "    plt.imshow(cv2.cvtColor(img, cv2.COLOR_BGR2RGB))\n",
    "    plt.show()\n"
   ]
  }
 ],
 "metadata": {
  "kernelspec": {
   "display_name": "Python 3 (ipykernel)",
   "language": "python",
   "name": "python3"
  },
  "language_info": {
   "codemirror_mode": {
    "name": "ipython",
    "version": 3
   },
   "file_extension": ".py",
   "mimetype": "text/x-python",
   "name": "python",
   "nbconvert_exporter": "python",
   "pygments_lexer": "ipython3",
   "version": "3.11.5"
  }
 },
 "nbformat": 4,
 "nbformat_minor": 5
}
