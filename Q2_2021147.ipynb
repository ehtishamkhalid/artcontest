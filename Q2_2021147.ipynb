{
 "cells": [
  {
   "cell_type": "code",
   "execution_count": null,
   "id": "709a3283",
   "metadata": {},
   "outputs": [],
   "source": [
    "import os\n",
    "import numpy as np\n",
    "import pandas as pd\n",
    "import matplotlib.pyplot as plt\n",
    "import tensorflow as tf\n",
    "from tensorflow import keras\n",
    "from tensorflow.keras import layers\n",
    "from tensorflow.keras.datasets import mnist, cifar10\n",
    "from kaggle.api.kaggle_api_extended import KaggleApi\n",
    "import cv2\n",
    "\n",
    "# Ensure to install YOLOv8 package\n",
    "# pip install ultralytics\n",
    "from ultralytics import YOLO"
   ]
  },
  {
   "cell_type": "code",
   "execution_count": null,
   "id": "ed4f7f76",
   "metadata": {},
   "outputs": [],
   "source": [
    "# Assuming the images are in a directory named 'images'\n",
    "image_dir = 'images'\n",
    "image_size = (640, 640)\n",
    "images = []\n",
    "\n",
    "for img_name in os.listdir(image_dir):\n",
    "    img_path = os.path.join(image_dir, img_name)\n",
    "    img = cv2.imread(img_path)\n",
    "    img = cv2.resize(img, image_size)\n",
    "    images.append(img)\n",
    "\n",
    "images = np.array(images)\n"
   ]
  },
  {
   "cell_type": "code",
   "execution_count": null,
   "id": "6ac0641e",
   "metadata": {},
   "outputs": [],
   "source": [
    "# Assuming the images are in a directory structure suitable for YOLO training\n",
    "image_directory = 'path/to/your/images'\n",
    "labels_directory = 'path/to/your/labels'\n",
    "\n",
    "# Example code for loading images and labels for YOLOv8\n",
    "def load_images_labels(image_dir, label_dir):\n",
    "    images = []\n",
    "    labels = []\n",
    "    for image_file in os.listdir(image_dir):\n",
    "        img_path = os.path.join(image_dir, image_file)\n",
    "        label_path = os.path.join(label_dir, image_file.replace('.jpg', '.txt'))\n",
    "        img = cv2.imread(img_path)\n",
    "        with open(label_path, 'r') as file:\n",
    "            label = file.readlines()\n",
    "        images.append(img)\n",
    "        labels.append(label)\n",
    "    return images, labels\n",
    "\n",
    "images, labels = load_images_labels(image_directory, labels_directory)\n"
   ]
  },
  {
   "cell_type": "code",
   "execution_count": null,
   "id": "fc1c6f72",
   "metadata": {},
   "outputs": [],
   "source": [
    "# Example using CIFAR-10 dataset\n",
    "(x_train, y_train), (x_test, y_test) = cifar10.load_data()\n"
   ]
  },
  {
   "cell_type": "code",
   "execution_count": null,
   "id": "7914d8d6",
   "metadata": {},
   "outputs": [],
   "source": [
    "# Example using MNIST dataset\n",
    "(x_train, y_train), (x_test, y_test) = mnist.load_data()\n",
    "x_train = np.expand_dims(x_train, axis=-1)\n",
    "x_test = np.expand_dims(x_test, axis=-1)\n",
    "\n",
    "# Example: Using MNIST dataset from Keras\n",
    "(x_train, y_train), (x_test, y_test) = mnist.load_data()\n",
    "\n",
    "# Reshape and preprocess if needed for YOLOv8\n",
    "x_train = np.stack((x_train,)*3, axis=-1)  # Convert to 3 channels\n",
    "x_test = np.stack((x_test,)*3, axis=-1)\n",
    "x_train = np.pad(x_train, ((0,0),(2,2),(2,2),(0,0)), 'constant')\n",
    "x_test = np.pad(x_test, ((0,0),(2,2),(2,2),(0,0)), 'constant')\n"
   ]
  },
  {
   "cell_type": "code",
   "execution_count": null,
   "id": "881bf93d",
   "metadata": {},
   "outputs": [],
   "source": [
    "# Load the YOLOv8 model\n",
    "model = YOLO('yolov8s.pt')  # or 'yolov8m.pt', 'yolov8l.pt', 'yolov8x.pt' for different model sizes\n"
   ]
  },
  {
   "cell_type": "code",
   "execution_count": null,
   "id": "59d016e9",
   "metadata": {},
   "outputs": [],
   "source": [
    "# Assuming 'images' and 'labels' lists are ready from previous steps\n",
    "# You will need to write images and labels to disk in YOLOv8 format\n",
    "train_img_dir = 'yolo_train/images'\n",
    "train_label_dir = 'yolo_train/labels'\n",
    "os.makedirs(train_img_dir, exist_ok=True)\n",
    "os.makedirs(train_label_dir, exist_ok=True)\n",
    "\n",
    "for i, (img, label) in enumerate(zip(images, labels)):\n",
    "    img_path = os.path.join(train_img_dir, f'{i}.jpg')\n",
    "    label_path = os.path.join(train_label_dir, f'{i}.txt')\n",
    "    cv2.imwrite(img_path, img)\n",
    "    with open(label_path, 'w') as file:\n",
    "        file.writelines(label)\n"
   ]
  },
  {
   "cell_type": "code",
   "execution_count": null,
   "id": "e044fb43",
   "metadata": {},
   "outputs": [],
   "source": [
    "# Train the model using your custom dataset\n",
    "model.train(data='yolo_train', epochs=100, imgsz=640)\n"
   ]
  },
  {
   "cell_type": "code",
   "execution_count": null,
   "id": "9cdcc72a",
   "metadata": {},
   "outputs": [],
   "source": [
    "# Load a pretrained YOLOv8 model and perform transfer learning\n",
    "pretrained_model = YOLO('yolov8m.pt')  # Load a medium-sized pretrained YOLOv8 model\n",
    "\n",
    "# Data augmentation example using ImageDataGenerator\n",
    "datagen = ImageDataGenerator(\n",
    "    rotation_range=20,\n",
    "    width_shift_range=0.2,\n",
    "    height_shift_range=0.2,\n",
    "    shear_range=0.2,\n",
    "    zoom_range=0.2,\n",
    "    horizontal_flip=True,\n",
    "    fill_mode='nearest'\n",
    ")\n",
    "\n",
    "# Example augmentation on a single image\n",
    "img = images[0]  # Replace with your image\n",
    "img = img.reshape((1,) + img.shape)\n",
    "for batch in datagen.flow(img, batch_size=1):\n",
    "    plt.figure()\n",
    "    plt.imshow(batch[0].astype('uint8'))\n",
    "    break  # Generate one augmented image\n"
   ]
  },
  {
   "cell_type": "code",
   "execution_count": null,
   "id": "165c274f",
   "metadata": {},
   "outputs": [],
   "source": [
    "# Evaluate the model\n",
    "results = model.val()\n",
    "\n",
    "# Make predictions on new images\n",
    "new_image = 'path/to/new/image.jpg'\n",
    "result = model(new_image)\n",
    "\n",
    "# Visualize predictions\n",
    "result.show()\n"
   ]
  }
 ],
 "metadata": {
  "kernelspec": {
   "display_name": "Python 3 (ipykernel)",
   "language": "python",
   "name": "python3"
  },
  "language_info": {
   "codemirror_mode": {
    "name": "ipython",
    "version": 3
   },
   "file_extension": ".py",
   "mimetype": "text/x-python",
   "name": "python",
   "nbconvert_exporter": "python",
   "pygments_lexer": "ipython3",
   "version": "3.11.5"
  }
 },
 "nbformat": 4,
 "nbformat_minor": 5
}
